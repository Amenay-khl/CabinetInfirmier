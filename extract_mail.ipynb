{
  "nbformat": 4,
  "nbformat_minor": 0,
  "metadata": {
    "colab": {
      "provenance": [],
      "authorship_tag": "ABX9TyMSrfa1blvAzeHwOsvHpNYD",
      "include_colab_link": true
    },
    "kernelspec": {
      "name": "python3",
      "display_name": "Python 3"
    },
    "language_info": {
      "name": "python"
    }
  },
  "cells": [
    {
      "cell_type": "markdown",
      "metadata": {
        "id": "view-in-github",
        "colab_type": "text"
      },
      "source": [
        "<a href=\"https://colab.research.google.com/github/Amenay-khl/CabinetInfirmier/blob/main/extract_mail.ipynb\" target=\"_parent\"><img src=\"https://colab.research.google.com/assets/colab-badge.svg\" alt=\"Open In Colab\"/></a>"
      ]
    },
    {
      "cell_type": "code",
      "execution_count": null,
      "metadata": {
        "colab": {
          "base_uri": "https://localhost:8080/"
        },
        "id": "agsq40D_PBR3",
        "outputId": "3788866c-d1ea-4fbc-c9a0-96e9f4aff93c"
      },
      "outputs": [
        {
          "output_type": "stream",
          "name": "stdout",
          "text": [
            "Collecting pdfplumber\n",
            "  Downloading pdfplumber-0.11.4-py3-none-any.whl.metadata (41 kB)\n",
            "\u001b[?25l     \u001b[90m━━━━━━━━━━━━━━━━━━━━━━━━━━━━━━━━━━━━━━━━\u001b[0m \u001b[32m0.0/42.0 kB\u001b[0m \u001b[31m?\u001b[0m eta \u001b[36m-:--:--\u001b[0m\r\u001b[2K     \u001b[91m━━━━━━━━━━━━━━━━━━━\u001b[0m\u001b[91m╸\u001b[0m\u001b[90m━━━━━━━━━━━━━━━━━━━━\u001b[0m \u001b[32m20.5/42.0 kB\u001b[0m \u001b[31m5.6 MB/s\u001b[0m eta \u001b[36m0:00:01\u001b[0m\r\u001b[2K     \u001b[90m━━━━━━━━━━━━━━━━━━━━━━━━━━━━━━━━━━━━━━━━\u001b[0m \u001b[32m42.0/42.0 kB\u001b[0m \u001b[31m591.6 kB/s\u001b[0m eta \u001b[36m0:00:00\u001b[0m\n",
            "\u001b[?25hRequirement already satisfied: pandas in /usr/local/lib/python3.10/dist-packages (2.2.2)\n",
            "Collecting pdfminer.six==20231228 (from pdfplumber)\n",
            "  Downloading pdfminer.six-20231228-py3-none-any.whl.metadata (4.2 kB)\n",
            "Requirement already satisfied: Pillow>=9.1 in /usr/local/lib/python3.10/dist-packages (from pdfplumber) (10.4.0)\n",
            "Collecting pypdfium2>=4.18.0 (from pdfplumber)\n",
            "  Downloading pypdfium2-4.30.0-py3-none-manylinux_2_17_x86_64.manylinux2014_x86_64.whl.metadata (48 kB)\n",
            "\u001b[2K     \u001b[90m━━━━━━━━━━━━━━━━━━━━━━━━━━━━━━━━━━━━━━━━\u001b[0m \u001b[32m48.5/48.5 kB\u001b[0m \u001b[31m1.7 MB/s\u001b[0m eta \u001b[36m0:00:00\u001b[0m\n",
            "\u001b[?25hRequirement already satisfied: charset-normalizer>=2.0.0 in /usr/local/lib/python3.10/dist-packages (from pdfminer.six==20231228->pdfplumber) (3.3.2)\n",
            "Requirement already satisfied: cryptography>=36.0.0 in /usr/local/lib/python3.10/dist-packages (from pdfminer.six==20231228->pdfplumber) (43.0.1)\n",
            "Requirement already satisfied: numpy>=1.22.4 in /usr/local/lib/python3.10/dist-packages (from pandas) (1.26.4)\n",
            "Requirement already satisfied: python-dateutil>=2.8.2 in /usr/local/lib/python3.10/dist-packages (from pandas) (2.8.2)\n",
            "Requirement already satisfied: pytz>=2020.1 in /usr/local/lib/python3.10/dist-packages (from pandas) (2024.2)\n",
            "Requirement already satisfied: tzdata>=2022.7 in /usr/local/lib/python3.10/dist-packages (from pandas) (2024.2)\n",
            "Requirement already satisfied: six>=1.5 in /usr/local/lib/python3.10/dist-packages (from python-dateutil>=2.8.2->pandas) (1.16.0)\n",
            "Requirement already satisfied: cffi>=1.12 in /usr/local/lib/python3.10/dist-packages (from cryptography>=36.0.0->pdfminer.six==20231228->pdfplumber) (1.17.1)\n",
            "Requirement already satisfied: pycparser in /usr/local/lib/python3.10/dist-packages (from cffi>=1.12->cryptography>=36.0.0->pdfminer.six==20231228->pdfplumber) (2.22)\n",
            "Downloading pdfplumber-0.11.4-py3-none-any.whl (59 kB)\n",
            "\u001b[2K   \u001b[90m━━━━━━━━━━━━━━━━━━━━━━━━━━━━━━━━━━━━━━━━\u001b[0m \u001b[32m59.2/59.2 kB\u001b[0m \u001b[31m2.4 MB/s\u001b[0m eta \u001b[36m0:00:00\u001b[0m\n",
            "\u001b[?25hDownloading pdfminer.six-20231228-py3-none-any.whl (5.6 MB)\n",
            "\u001b[2K   \u001b[90m━━━━━━━━━━━━━━━━━━━━━━━━━━━━━━━━━━━━━━━━\u001b[0m \u001b[32m5.6/5.6 MB\u001b[0m \u001b[31m20.9 MB/s\u001b[0m eta \u001b[36m0:00:00\u001b[0m\n",
            "\u001b[?25hDownloading pypdfium2-4.30.0-py3-none-manylinux_2_17_x86_64.manylinux2014_x86_64.whl (2.8 MB)\n",
            "\u001b[2K   \u001b[90m━━━━━━━━━━━━━━━━━━━━━━━━━━━━━━━━━━━━━━━━\u001b[0m \u001b[32m2.8/2.8 MB\u001b[0m \u001b[31m76.1 MB/s\u001b[0m eta \u001b[36m0:00:00\u001b[0m\n",
            "\u001b[?25hInstalling collected packages: pypdfium2, pdfminer.six, pdfplumber\n",
            "Successfully installed pdfminer.six-20231228 pdfplumber-0.11.4 pypdfium2-4.30.0\n"
          ]
        }
      ],
      "source": [
        "!pip install pdfplumber pandas"
      ]
    },
    {
      "cell_type": "code",
      "source": [
        "import pdfplumber\n",
        "import pandas as pd"
      ],
      "metadata": {
        "id": "moPqtvJgPLZH"
      },
      "execution_count": null,
      "outputs": []
    },
    {
      "cell_type": "code",
      "source": [
        "def pdf_to_dataframe(pdf_path):\n",
        "    # Open the PDF file\n",
        "    with pdfplumber.open(pdf_path) as pdf:\n",
        "        # Initialize an empty list to store the text\n",
        "        text_list = []\n",
        "\n",
        "        # Iterate through each page\n",
        "        for page in pdf.pages:\n",
        "            text = page.extract_text()\n",
        "            text_list.append(text)\n",
        "\n",
        "        # Combine all the text into a single string\n",
        "        all_text = \"\\n\".join(text_list)\n",
        "\n",
        "        # Split the text into lines\n",
        "        lines = all_text.split(\"\\n\")\n",
        "\n",
        "        # Create a DataFrame from the lines\n",
        "        df = pd.DataFrame(lines, columns=[\"Text\"])\n",
        "\n",
        "        return df\n",
        "\n"
      ],
      "metadata": {
        "id": "oZoFQxtuPREY"
      },
      "execution_count": null,
      "outputs": []
    },
    {
      "cell_type": "code",
      "source": [
        "# Example usage\n",
        "pdf_path = \"37954283d.pdf\"\n",
        "df = pdf_to_dataframe(pdf_path)\n",
        "print(df)"
      ],
      "metadata": {
        "colab": {
          "base_uri": "https://localhost:8080/"
        },
        "id": "Vp-i7XKFQXep",
        "outputId": "f19af9f6-e53c-436e-d0e0-1f207f58b225"
      },
      "execution_count": null,
      "outputs": [
        {
          "output_type": "stream",
          "name": "stdout",
          "text": [
            "                                                 Text\n",
            "0           DISTRICT DE L ISERE Annuaire des arbitres\n",
            "1                    Fédération Française de Football\n",
            "2                                 DISTRICT DE L ISERE\n",
            "3               Annuaire des arbitres Numéro 37954283\n",
            "4     Le 04/10/2024 12:52 Par Amenay KHIAL Format PDF\n",
            "...                                               ...\n",
            "2056                   550437 SAINT MARTIN D'HERES F.\n",
            "2057                           Autre : 06 13 62 76 32\n",
            "2058                                               C.\n",
            "2059                                            Isere\n",
            "2060    FOOT 2000 - FFF 04/10/2024 12:52 Page 37 / 37\n",
            "\n",
            "[2061 rows x 1 columns]\n"
          ]
        }
      ]
    },
    {
      "cell_type": "code",
      "source": [
        "email_addresses = []\n",
        "\n",
        "# Define the regex pattern for email addresses\n",
        "email_pattern = r'[a-zA-Z0-9._%+-]+@[a-zA-Z0-9.-]+\\.[a-zA-Z]{2,}'\n",
        "\n",
        "# Iterate through each row in the specified column of the DataFrame\n",
        "for index, row in df.iterrows():\n",
        "    text = row['Text']\n",
        "    if pd.notna(text):  # Check if the cell is not NaN\n",
        "        # Find all email addresses in the text\n",
        "        emails = re.findall(email_pattern, text)\n",
        "        email_addresses.extend(emails)\n",
        "\n",
        "# Print the list of extracted email addresses\n",
        "print(email_addresses)"
      ],
      "metadata": {
        "colab": {
          "base_uri": "https://localhost:8080/"
        },
        "id": "FNqfyR7jRSti",
        "outputId": "029cbc79-fda1-4031-d4d2-76b00571b8cd"
      },
      "execution_count": null,
      "outputs": [
        {
          "output_type": "stream",
          "name": "stdout",
          "text": [
            "['raitkhouya@delifrance.com', 'yunus38@hotmail.fr', 'yunus38@hotmail.fr', 'emre.aksoy@hotmail.fr', 'adamakyurek38500@gmail.com', 'mustaky38@yahoo.fr', 'mikail.akyurek38@gmail.com', 'mikail.akyurek38@gmail.com', 'mustaky38@yahoo.fr', 'adam.jouaid123@gmail.com', 'alcoleaimmobilier@gmail.com', 'malmwajeh@gmail.com', 'amane.soufiane@gmail.com', 'kade380920@gmail.com', 'maamaaz@yahoo.fr', 'maamaaz@yahoo.fr', 'anselme.1wya@gmail.com', 'direction@pere-anselme.fr', 'haouad470@gmail.com', 'amandine.sonnier@gmail.com', 'pascal.areguian@gmail.com', 'virginie.rouquier1@sfr.fr', 'virginie.rouquier1@sfr.fr', 'denizmoirans@gmail.com', 'denis.auguste0536@orange.fr', 'nanouken2love@hotmail.com', 'nanouken2love@hotmail.com', 'keller.barbier@gmail.com', 'mickailbaris@icloud.com', 'nadirbedar10@gmail.com', 'toucoo25@free.fr', 'basmabel@hotmail.fr', 'basmabel@hotmail.fr', 'kayer.belkadi@hotmail.fr', 'belkhirriad3845@gmail.com', 'belkhirriad3845@gmail.com', 'dayenbehs08@gmail.com', 'zyedbenelhadj@gmail.com', 'hakim.benelhadj@orange.fr', 'zyed.benelhadjsalem@ca-sudrhonealpes.fr', 'zyedbenelhadj@gmail.com', 'badis.benhoula3@gmail.com', 'abedbenmehrez@hotmail.com', 'mahmoudbensalem@icloud.com', 'adelecochard@yahoo.fr', 'mohamedbenchekroun7@gmail.com', 'mohamedbenchekroun7@gmail.com', 'alamar69@hotmail.fr', 'alamar69@hotmail.fr', 'kylyann.b@gmail.com', 'kylyann.b@gmail.com', 'bonard.benjamin@gmail.com', 'kevin.bonneton@orange.fr', 'bonpaincassandra@gmail.com', 'franckbosch@orange.fr', 'franckbosch@orange.fr', 'happyfamily1@hotmail.fr', 'bounouarad@gmail.com', 'bounouaranoam7@gmail.com', 'bounouarad@gmail.com', 'ramilamia@hotmail.fr', 'rami773000@gmail.com', 'rami773000@gmail.com', 'boussoufmohamed@free.fr', 'boussoufmohamed@free.fr', 'alexis.bouvier38@gmail.com', 'k.bouzerara@gmail.com', 'azzedine.bouzidi@hotmail.fr', 'madjidbouz.ce@gmail.com', 'madjidbouz@yahoo.fr', 'bouzouzouw@gmail.com', 'bouzouzouw@gmail.com', 'moor0336@hotmail.fr', 'moor0336@hotmail.fr', 'depliantsouvenirs@gmail.com', 'nourre.br@hotmail.fr', 'brotons.n@gmail.com', 'adsdu42@hotmail.fr', 'richard.buivietlinh@gmail.com', 'yves.cabaret.arbitre@gmail.com', 'maximecambione24@gmail.com', 'maximecambione24@gmail.com', 'tranquille.38@hotmail.fr', 'chaari.amir38210@gmail.com', 'chaari.wajdi@gmail.com', 'yacinechaari319@gmail.com', 'sofianche38130@gmail.com', 'sofianche38130@gmail.com', 'alaeddine.c@icloud.com', 'ahmad.choukor@hotmail.com', 'dominique.cleret@gmail.com', 'paolo3801@yahoo.fr', 'esteban.colas38@gmail.com', 'lionmor2000@yahoo.fr', 'g.coquillaud@gmail.com', 'roycornu71@gmail.com', 'sophroy38@sfr.fr', 'scusanno@hotmail.fr', 'scusanno@hotmail.fr', 'lalezan@orange.fr', 'dappel-didier@orange.fr', 'cdebonnefoy@gmail.com', 'jorge.aguia38@gmail.com', 'alexandre.decoster87@laposte.net', 'yanisdeghia@gmail.com', 'laville51@hotmail.fr', 'monia.dehmani@gmail.com', 'monia.dehmani@gmail.com', 'sebsonia35@orange.fr', 'dorian.dns38@gmail.com', 'cyril.denuncq@hotmail.fr', 'evan38.derudas@gmail.com', 'evan38.derudas@gmail.com', 'isaacdervillers@yahoo.com', 'destraspatrick30@gmail.com', 'abdourahmaned8375@gmail.com', 'amethdiopad7@gmail.com', 'boussad.djai@lennoxemea.com', 'djai38@sfr.fr', 'abdelmoumen.djohor@gmail.com', 'mourad.djouder@st.com', 'florian.dos@hotmail.fr', 'doussonthomas@gmail.com', 'doussonthomas@gmail.com', 'lemarseiller-du-38@outlook.fr', 'anne.angelika38@gmail.com', 'yannix62100@hotmail.fr', 'ayhandsn1@gmail.com', 'ayhandsn1@gmail.com', 'anisechine@gmail.com', 'anisechine@gmail.com', 'fahd.elfaskaoui@gmail.com', 'fadh.elfaskaoui@laposte.net', 'louisj.etaix@gmail.com', 'louisj.etaix@gmail.com', 'achilleasevag@gmail.com', 'leo.farkas38@gmail.com', 'mautasem77@gmail.com', 'flofebusse@orange.fr', 'fedilamenouer@gmail.com', 'audrey.ferlet@orange.fr', 'mferlet47@gmail.com', 'gastonfilice@icloud.com', 'judas59@live.fr', 'yacine.gassem38@gmail.com', 'mounir.gassem@free.fr', 'hgelas.batic@hotmail.fr', 'gabgenevey@gmail.com', 'gabgenevey@gmail.com', 'ghafiri.06@gmail.com', 'fawel.raf@hotmail.fr', 'fawel.raf@hotmail.fr', 'granjondelaire.maxime@gmail.com', 'jacques.granjon@hotmail.fr', 'sebguerrier@gmail.com', 'sebguerrier.arbitre@gmail.com', 'fabiennedumas@hotmail.fr', 'mathys191203@gmail.com', 'sebastien.guirado@univ-grenoble-alpes.fr', 'nathan.guirado-patrico@outlook.fr', 'mejdi38@hotmail.fr', 'riadsarabadr@gmail.com', 'riadsarabadr@gmail.com', 'mohammedhamidi38120@gmail.com', 'mohammedhamidi38120@gmail.com', 'rayanlezig@gmail.com', 'mohammedhamidi38120@gmail.com', 'momo.arbitre@gmail.com', 'mohammedhamidi38120@gmail.com', 'younes38120@gmail.com', 'laouage@hotmail.fr', 'laouage@hotmail.fr', 'amine.hammedi@laposte.net', 'nadiahamzaoui87@gmail.com', 'ilyeshamzaoui.69@icloud.com', 'romaric.hanna@gmail.com', 'romaric.hanna@gmail.com', 'halhocine@gmail.com', 'samy.hocine25@gmail.com', 'huertas.pierre@lbfc-foot.fr', 'pierre.huertas@sfr.fr', 'hysenjamir94@icloud.com', 'badgones10@free.fr', 'celinechauvin@free.fr', 'maxjars06@gmail.com', 'jayetevan@gmail.com', 'jayetevan@gmail.com', 'guerschomkanda@gmail.com', 's.keita239@laposte.net', 'ehsankb17@gmail.com', 'ehsankb17@gmail.com', 'khialamnay@gmail.com', 'bonof.khouaja@hotmail.fr', 'bonof.khouaja@hotmail.fr', 'johanna.koch28@icloud.com', 'kalid.koubaa@gmail.com', 'noekoutala1@gmail.com', 'koutala2001@yahoo.fr', 'guy.lagueu@gmail.com', 'karlouchy@gmail.com', 'aymanelakhal94@gmail.com', 'thomas040608@orange.fr', 'lhuillierludovic135@gmail.com', 'corentin.luchini@gmail.com', 'corentin.luchini@gmail.com', 'portelamelvyn@gmail.com', 'jose.portella@free.fr', 'francoise.maniguet@orange.fr', 'eddymaniguet2007@gmail.com', 'alanmarey0@gmail.com', 'arnaud.marey@wanadoo.fr', 'martin.stephane42@hotmail.fr', 'pier.martinez38@orange.fr', 'joelmartinez38@orange.fr', 'pierre.mauries@sdis38.fr', 'pmauries@gmail.com', 'bertho33000@yahoo.fr', 'mchirguimansour363@gmail.com', 'mchirguimansour363@gmail.com', 'farouk.mechati08@gmail.com', 'b.merimi@ville-echirolles.fr', 'orhanmete1975@gmail.com', 'delphine.michallat33@orange.fr', 'hm38@live.fr', 'mimoundu38@gmail.com', 'julien_minisini@live.fr', 'ayadmmadi0@gmail.com', 'dylanmontana2003@icloud.com', 'enzo.more24052003@gmail.com', 'enzo.more24052003@gmail.com', 'jonathan.moreira5@orange.fr', 'elodie.erd@orange.fr', 'yliesmouellef@hotmail.fr', 'yliesmouellef@hotmail.fr', 'yassine.moujamir@gmail.com', 'mpoyiaudry54@gmail.com', 'y.naitdriss@gmail.com', 'nnomokarelle95@gmail.com', 'deenha.nasri@outlook.com', 'riad.nasri@outlook.com', 'riad.nasri@outlook.com', 'riad.nasri@outlook.com', 'bimenhabib@gmail.com', 'bimenhabib@gmail.com', 'djigangom97@gmail.com', 'ngomdjiga97@gmail.com', 'gerard.remon@laposte.net', 'bessierenibbio@yahoo.com', 'joris.noel12@gmail.com', 'fejl@orange.fr', 'corentin.nogueras@orange.fr', 'nyerorossi1@gmail.com', 'lucreziaogah@gmail.com', 'ogahma@gmail.com', 'bradkosi@yahoo.fr', 'olliviera05@gmail.com', 'olliviera05@gmail.com', 'arbitre-oujda@hotmail.fr', 'arbitre-oujda@hotmail.fr', 'parreninleo@laposte.net', 'parvedymelinda38@gmail.com', 'parvedymelinda38@gmail.com', 'parvedy.thierry@orange.fr', 'parvedy.thierry@orange.fr', 'emerik.pereira4@icloud.com', 'thompe@orange.fr', 'christophe.perret78@sfr.fr', 'antoine.perrin603@gmail.com', 'ceciletardoski@yahoo.fr', 'bastien.peterle@hotmail.com', 'cycipetit38@gmail.com', 'sylvie.gutfreund@gmail.com', 'ggpth.dodo@gmail.com', 'jerem.petithomme@gmail.com', 'ggpth.dodo@gmail.com', 'riccardo.piana41@gmail.com', 'riccardo.piana41@gmail.com', 'marjorie.picot@orange.fr', 'pokamalinau@yahoo.com', 'poncet.anais99@gmail.com', 'anael.quessada@yahoo.com', 'afabien.real@gmail.com', 'afabien.real@gmail.com', 'rdjazouli.1979@gmail.com', 'rdjazouli.1979@gmail.com', 'flavioarbitre@gmail.com', 'reviglionoludo@gmail.com', 'aurelien.ribeyron@sfr.fr', 'claude.maugiron38@orange.fr', 'richardalex076@gmail.com', 'richardalex076@icloud.com', 'sophie.serpinet@sfr.fr', 'enzorivier06@gmail.com', 'ventaja.carine@gmail.com', 'elianlyon38@gmail.com', 'timrmn1@gmail.com', 'cyrilleromain@yahoo.fr', 'mondherllion@yahoo.fr', 'alain.roussillon@hotmail.fr', 'osama.sa200@gmail.com', 'osama.sa200@gmail.com', 'bunyamin3870@gmail.com', 'salime.said@hotmail.com', 'salime.said@hotmail.com', 'kamel.saidia@yahoo.fr', 'nizar.saidia@gmail.com', 'lolito0104@gmail.com', 'dimitri.salwa@gmail.com', 'sarpkaya3877@gmail.com', 'sarpkaya3877@gmail.com', 'benjamin.schotte@gmail.com', 'wiss76@hotmail.fr', 'wiss76@hotmail.fr', 'abdoulrazacksidibe60@gmail.com', 'abdoulrazacksidibe60@gmail.com', 'smacchia.fabrice@gmail.com', 'sonzognithibaut@aol.com', 'hamid.soudani@wanadoo.fr', 'hichem.s@hotmail.fr', 'jnsg38@yahoo.fr', 'sulekali1@outlook.fr', 'sulekali1@outlook.fr', 'ilanntr@gmail.com', 'morgane708@hotmail.fr', 'chiz2311@gmail.com', 'iyedterzeg10@gmail.com', 'dam.thevenin@gmail.com', 'aurelethevenin@gmail.com', 'cyrilthevenin@hotmail.fr', 'designation38.u15@gmail.com', 'cyrilthevenin@hotmail.fr', 'johann.toffa@gmail.com', 'attwitim@gmail.com', 'djstar_16@yahoo.com', 'antonin.tulipier@gmail.com', 'antonin.tulipier@gmail.com', 'get80@orange.fr', 'safak.turhan14@gmail.com', 'safak.turhan14@gmail.com', 'urbain.cedric@orange.fr', '2545642681@lmedfoot.fr', 'vmihirau@gmail.com', 'franck.vaillant@aliceadsl.fr', 'axel3869.av@gmail.com', 'sebva38@hotmail.com', 'aline.robert.blanc@free.fr', 'vaz.fernando.luis.1965@hotmail.fr', 'suzyvercelly@gmail.com', 'frederick.vercelly@waters.nestle.com', 'lvercelly@gmail.com', 'arnaud.vernotte@wanadoo.fr', 'melanievivier@orange.fr', 'melanievivier@orange.fr', 'pascal.vrignon@hotmail.fr', 'pascal.vrignon@hotmail.fr', 'abdelazizyahia150@gmail.com', 'abdelkaderyahia150@gmail.com', 'hocine38@gmail.com', 'moham3dyahia150@gmail.com', 'hocine38@gmail.com', 'morade1959.my@gmail.com', 'yayaerwann@gmail.com', 'yuksel.ferdinand@gmail.com', 'yuksel.ferdinand@gmail.com', 'mehmet.zeybek@sfr.com', 'zeybekkenan38@gmail.com']\n"
          ]
        }
      ]
    },
    {
      "cell_type": "code",
      "source": [
        "pip install pandas openpyxl"
      ],
      "metadata": {
        "colab": {
          "base_uri": "https://localhost:8080/"
        },
        "id": "GGm6kK8ATPcM",
        "outputId": "37179b8d-5d20-4991-9cb8-023f7b97b77c"
      },
      "execution_count": null,
      "outputs": [
        {
          "output_type": "stream",
          "name": "stdout",
          "text": [
            "Requirement already satisfied: pandas in /usr/local/lib/python3.10/dist-packages (2.2.2)\n",
            "Requirement already satisfied: openpyxl in /usr/local/lib/python3.10/dist-packages (3.1.5)\n",
            "Requirement already satisfied: numpy>=1.22.4 in /usr/local/lib/python3.10/dist-packages (from pandas) (1.26.4)\n",
            "Requirement already satisfied: python-dateutil>=2.8.2 in /usr/local/lib/python3.10/dist-packages (from pandas) (2.8.2)\n",
            "Requirement already satisfied: pytz>=2020.1 in /usr/local/lib/python3.10/dist-packages (from pandas) (2024.2)\n",
            "Requirement already satisfied: tzdata>=2022.7 in /usr/local/lib/python3.10/dist-packages (from pandas) (2024.2)\n",
            "Requirement already satisfied: et-xmlfile in /usr/local/lib/python3.10/dist-packages (from openpyxl) (1.1.0)\n",
            "Requirement already satisfied: six>=1.5 in /usr/local/lib/python3.10/dist-packages (from python-dateutil>=2.8.2->pandas) (1.16.0)\n"
          ]
        }
      ]
    },
    {
      "cell_type": "code",
      "source": [
        "email_df = pd.DataFrame(email_addresses, columns=['Email'])\n",
        "email_df.to_excel('extracted_emails.xlsx', index=False)\n"
      ],
      "metadata": {
        "id": "C98wrJ6ySXdq"
      },
      "execution_count": null,
      "outputs": []
    },
    {
      "cell_type": "code",
      "source": [],
      "metadata": {
        "id": "J4vwq7NMT0Hf"
      },
      "execution_count": null,
      "outputs": []
    }
  ]
}